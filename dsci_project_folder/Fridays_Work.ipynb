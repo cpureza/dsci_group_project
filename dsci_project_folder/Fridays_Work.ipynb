{
 "cells": [
  {
   "cell_type": "markdown",
   "metadata": {},
   "source": [
    "# Discrimination in Tennis: An Examination of Age and Territorial Biases\n",
    "\n",
    "DSCI 100 \\\n",
    "*Team Members: Aleyna, Camille, Erik, Yulong*\n",
    "\n",
    "#### *INTRODUCTION*\n",
    "\n",
    "Tennis has been an integral sport within the world since 1890. Many global tournaments are held each year in major cities such as Melbourn,\n",
    "Paris, London, and New York City, with prize pools of over 50 million! Given this sport with such historical value and a global presence, \n",
    "we wanted to explore any **potential biases** through **age** or **country of origin** within the international tennis community. We achieve this by\n",
    "examining a dataset of the top 500 tennis players in the world, and visualizing money per player through age group and country of origin. \n",
    "\n",
    "***Our Question:*** Can the top ranking countries and the varying ages between tennis players be used to predict their competition winnings, and does this reveal an underlying partiality between the factors?\n",
    "\n",
    "***Classifier:*** Earnings\\\n",
    "***Predictors:*** Country, Age, Ranks\\\n",
    "***Dataset:*** Tennis Player Stats for Top 500 Players\n",
    "\n",
    "#### *PRELIMINARY EXPLORATORY DATA ANALYSIS*\n"
   ]
  },
  {
   "cell_type": "code",
   "execution_count": 1,
   "metadata": {},
   "outputs": [
    {
     "name": "stderr",
     "output_type": "stream",
     "text": [
      "── \u001b[1mAttaching packages\u001b[22m ─────────────────────────────────────── tidyverse 1.3.0 ──\n",
      "\n",
      "\u001b[32m✔\u001b[39m \u001b[34mggplot2\u001b[39m 3.3.2     \u001b[32m✔\u001b[39m \u001b[34mpurrr  \u001b[39m 0.3.4\n",
      "\u001b[32m✔\u001b[39m \u001b[34mtibble \u001b[39m 3.0.3     \u001b[32m✔\u001b[39m \u001b[34mdplyr  \u001b[39m 1.0.2\n",
      "\u001b[32m✔\u001b[39m \u001b[34mtidyr  \u001b[39m 1.1.2     \u001b[32m✔\u001b[39m \u001b[34mstringr\u001b[39m 1.4.0\n",
      "\u001b[32m✔\u001b[39m \u001b[34mreadr  \u001b[39m 1.3.1     \u001b[32m✔\u001b[39m \u001b[34mforcats\u001b[39m 0.5.0\n",
      "\n",
      "Warning message:\n",
      "“package ‘ggplot2’ was built under R version 4.0.1”\n",
      "Warning message:\n",
      "“package ‘tibble’ was built under R version 4.0.2”\n",
      "Warning message:\n",
      "“package ‘tidyr’ was built under R version 4.0.2”\n",
      "Warning message:\n",
      "“package ‘dplyr’ was built under R version 4.0.2”\n",
      "── \u001b[1mConflicts\u001b[22m ────────────────────────────────────────── tidyverse_conflicts() ──\n",
      "\u001b[31m✖\u001b[39m \u001b[34mdplyr\u001b[39m::\u001b[32mfilter()\u001b[39m masks \u001b[34mstats\u001b[39m::filter()\n",
      "\u001b[31m✖\u001b[39m \u001b[34mdplyr\u001b[39m::\u001b[32mlag()\u001b[39m    masks \u001b[34mstats\u001b[39m::lag()\n",
      "\n",
      "Warning message:\n",
      "“package ‘tidymodels’ was built under R version 4.0.2”\n",
      "── \u001b[1mAttaching packages\u001b[22m ────────────────────────────────────── tidymodels 0.1.1 ──\n",
      "\n",
      "\u001b[32m✔\u001b[39m \u001b[34mbroom    \u001b[39m 0.7.0      \u001b[32m✔\u001b[39m \u001b[34mrecipes  \u001b[39m 0.1.13\n",
      "\u001b[32m✔\u001b[39m \u001b[34mdials    \u001b[39m 0.0.9      \u001b[32m✔\u001b[39m \u001b[34mrsample  \u001b[39m 0.0.7 \n",
      "\u001b[32m✔\u001b[39m \u001b[34minfer    \u001b[39m 0.5.4      \u001b[32m✔\u001b[39m \u001b[34mtune     \u001b[39m 0.1.1 \n",
      "\u001b[32m✔\u001b[39m \u001b[34mmodeldata\u001b[39m 0.0.2      \u001b[32m✔\u001b[39m \u001b[34mworkflows\u001b[39m 0.2.0 \n",
      "\u001b[32m✔\u001b[39m \u001b[34mparsnip  \u001b[39m 0.1.3      \u001b[32m✔\u001b[39m \u001b[34myardstick\u001b[39m 0.0.7 \n",
      "\n",
      "Warning message:\n",
      "“package ‘broom’ was built under R version 4.0.2”\n",
      "Warning message:\n",
      "“package ‘dials’ was built under R version 4.0.2”\n",
      "Warning message:\n",
      "“package ‘infer’ was built under R version 4.0.3”\n",
      "Warning message:\n",
      "“package ‘modeldata’ was built under R version 4.0.1”\n",
      "Warning message:\n",
      "“package ‘parsnip’ was built under R version 4.0.2”\n",
      "Warning message:\n",
      "“package ‘recipes’ was built under R version 4.0.1”\n",
      "Warning message:\n",
      "“package ‘tune’ was built under R version 4.0.2”\n",
      "Warning message:\n",
      "“package ‘workflows’ was built under R version 4.0.2”\n",
      "Warning message:\n",
      "“package ‘yardstick’ was built under R version 4.0.2”\n",
      "── \u001b[1mConflicts\u001b[22m ───────────────────────────────────────── tidymodels_conflicts() ──\n",
      "\u001b[31m✖\u001b[39m \u001b[34mscales\u001b[39m::\u001b[32mdiscard()\u001b[39m masks \u001b[34mpurrr\u001b[39m::discard()\n",
      "\u001b[31m✖\u001b[39m \u001b[34mdplyr\u001b[39m::\u001b[32mfilter()\u001b[39m   masks \u001b[34mstats\u001b[39m::filter()\n",
      "\u001b[31m✖\u001b[39m \u001b[34mrecipes\u001b[39m::\u001b[32mfixed()\u001b[39m  masks \u001b[34mstringr\u001b[39m::fixed()\n",
      "\u001b[31m✖\u001b[39m \u001b[34mdplyr\u001b[39m::\u001b[32mlag()\u001b[39m      masks \u001b[34mstats\u001b[39m::lag()\n",
      "\u001b[31m✖\u001b[39m \u001b[34myardstick\u001b[39m::\u001b[32mspec()\u001b[39m masks \u001b[34mreadr\u001b[39m::spec()\n",
      "\u001b[31m✖\u001b[39m \u001b[34mrecipes\u001b[39m::\u001b[32mstep()\u001b[39m   masks \u001b[34mstats\u001b[39m::step()\n",
      "\n"
     ]
    }
   ],
   "source": [
    "library(tidyverse)\n",
    "library(repr)\n",
    "library(tidymodels)\n",
    "library(stringr)\n",
    "set.seed(2022)"
   ]
  },
  {
   "cell_type": "code",
   "execution_count": 2,
   "metadata": {},
   "outputs": [],
   "source": [
    "data <- read.csv(url(\"https://drive.google.com/uc?export=download&id=1_MECmUXZuuILYeEOfonSGqodW6qVdhsS\"))"
   ]
  },
  {
   "cell_type": "code",
   "execution_count": 3,
   "metadata": {},
   "outputs": [
    {
     "name": "stderr",
     "output_type": "stream",
     "text": [
      "Warning message:\n",
      "“Problem with `mutate()` input `Prize.Money`.\n",
      "\u001b[34mℹ\u001b[39m NAs introduced by coercion\n",
      "\u001b[34mℹ\u001b[39m Input `Prize.Money` is `as.numeric(Prize.Money)`.”\n",
      "Warning message in mask$eval_all_mutate(dots[[i]]):\n",
      "“NAs introduced by coercion”\n"
     ]
    }
   ],
   "source": [
    "data <- mutate(data, str_replace(data$Age, \" \\\\s*\\\\([^\\\\)]+\\\\)\", \"\"))\n",
    "data <- mutate(data, Age = str_replace(data$Age, \" \\\\s*\\\\([^\\\\)]+\\\\)\", \"\")) \n",
    "data <- mutate(data, Current.Rank = str_replace(data$Current.Rank, \" \\\\s*\\\\([^\\\\)]+\\\\)\", \"\")) \n",
    "data <- mutate(data, Best.Rank = str_replace(data$Best.Rank, \" \\\\s*\\\\([^\\\\)]+\\\\)\", \"\"))\n",
    "\n",
    "money <- c(data$Prize.Money)\n",
    "money <- money %>%\n",
    "        lapply(gsub, pattern=\"$\", fixed=TRUE, replacement=\"\") %>%\n",
    "        lapply(gsub, pattern=\"US\", fixed=TRUE, replacement=\"\") %>%\n",
    "        lapply(gsub, pattern=\"all-time leader in earnings\", fixed=TRUE, replacement=\"\") %>%\n",
    "        lapply(gsub, pattern=\"All-time leader in earnings\", fixed=TRUE, replacement=\"\") %>%\n",
    "        lapply(gsub, pattern=\"all-time in earnings\", fixed=TRUE, replacement=\"\") %>%\n",
    "        lapply(gsub, pattern=\"11th\", fixed=TRUE, replacement=\"\") %>%\n",
    "        lapply(gsub, pattern=\"24th\", fixed=TRUE, replacement=\"\") %>%\n",
    "        lapply(gsub, pattern=\"10th\", fixed=TRUE, replacement=\"\") %>%\n",
    "        lapply(gsub, pattern=\"14th\", fixed=TRUE, replacement=\"\") %>%\n",
    "        lapply(gsub, pattern=\"2nd\", fixed=TRUE, replacement=\"\") %>%\n",
    "        lapply(gsub, pattern=\"27th\", fixed=TRUE, replacement=\"\") %>%\n",
    "        lapply(gsub, pattern=\"15th\", fixed=TRUE, replacement=\"\") %>%\n",
    "        lapply(gsub, pattern=\"30th\", fixed=TRUE, replacement=\"\") %>%\n",
    "        lapply(gsub, pattern=\"4th\", fixed=TRUE, replacement=\"\") %>%\n",
    "        lapply(gsub, pattern=\"28th\", fixed=TRUE, replacement=\"\") %>%\n",
    "        lapply(gsub, pattern=\"6th\", fixed=TRUE, replacement=\"\") %>%\n",
    "        lapply(gsub, pattern=\"33rd\", fixed=TRUE, replacement=\"\") %>%\n",
    "        lapply(gsub, pattern=\"26th\", fixed=TRUE, replacement=\"\") %>%\n",
    "        lapply(gsub, pattern=\"24th\", fixed=TRUE, replacement=\"\") %>%\n",
    "        lapply(gsub, pattern=\"48th\", fixed=TRUE, replacement=\"\") %>%\n",
    "        lapply(gsub, pattern=\"41st\", fixed=TRUE, replacement=\"\") %>%\n",
    "        lapply(gsub, pattern=\"24th\", fixed=TRUE, replacement=\"\") %>%\n",
    "        lapply(gsub, pattern=\"15th\", fixed=TRUE, replacement=\"\")\n",
    "\n",
    "data_selected <- data %>%\n",
    "            mutate(data, Prize.Money = money) %>%\n",
    "            select(Age, Name,Country, Current.Rank, Best.Rank, Prize.Money,Seasons) %>%\n",
    "            mutate(Prize.Money = gsub(\",\",\"\", Prize.Money))\n",
    "\n",
    "tidy_data <- data_selected %>% \n",
    "        filter(Prize.Money != \"\") %>%\n",
    "        mutate(Prize.Money = as.numeric(Prize.Money)) %>%\n",
    "        mutate(Age = as.numeric(Age)) %>%\n",
    "        mutate(Current.Rank = as.numeric(Current.Rank)) %>%\n",
    "        mutate(Best.Rank = as.numeric(Best.Rank)) %>%\n",
    "        mutate(Seasons = as.numeric(Seasons)) %>%\n",
    "        mutate(Prize.Money = Prize.Money/Seasons)\n",
    "\n",
    "tidy_data <- drop_na(tidy_data)"
   ]
  },
  {
   "cell_type": "code",
   "execution_count": 4,
   "metadata": {},
   "outputs": [],
   "source": [
    "tidy_data <- initial_split(tidy_data, prop = 0.75, strata = Prize.Money)  \n",
    "training_data <- training(tidy_data)   \n",
    "testing_data <- testing(tidy_data)"
   ]
  },
  {
   "cell_type": "code",
   "execution_count": 5,
   "metadata": {},
   "outputs": [
    {
     "name": "stderr",
     "output_type": "stream",
     "text": [
      "`summarise()` ungrouping output (override with `.groups` argument)\n",
      "\n",
      "`summarise()` ungrouping output (override with `.groups` argument)\n",
      "\n",
      "New names:\n",
      "* NA -> ...3\n",
      "\n"
     ]
    },
    {
     "data": {
      "text/html": [
       "<table>\n",
       "<caption>A tibble: 10 × 3</caption>\n",
       "<thead>\n",
       "\t<tr><th scope=col>Country</th><th scope=col>n</th><th scope=col>avg_award_in_USD</th></tr>\n",
       "\t<tr><th scope=col>&lt;chr&gt;</th><th scope=col>&lt;int&gt;</th><th scope=col>&lt;dbl&gt;</th></tr>\n",
       "</thead>\n",
       "<tbody>\n",
       "\t<tr><td>United Kingdom</td><td> 7</td><td>745227.6</td></tr>\n",
       "\t<tr><td>Argentina     </td><td> 8</td><td>454643.2</td></tr>\n",
       "\t<tr><td>Serbia        </td><td> 8</td><td>360795.9</td></tr>\n",
       "\t<tr><td>Japan         </td><td>10</td><td>320105.2</td></tr>\n",
       "\t<tr><td>Australia     </td><td>13</td><td>278131.9</td></tr>\n",
       "\t<tr><td>France        </td><td>15</td><td>459706.8</td></tr>\n",
       "\t<tr><td>Spain         </td><td>19</td><td>652559.6</td></tr>\n",
       "\t<tr><td>Italy         </td><td>20</td><td>314682.0</td></tr>\n",
       "\t<tr><td>Germany       </td><td>21</td><td>222830.4</td></tr>\n",
       "\t<tr><td>United States </td><td>24</td><td>307010.7</td></tr>\n",
       "</tbody>\n",
       "</table>\n"
      ],
      "text/latex": [
       "A tibble: 10 × 3\n",
       "\\begin{tabular}{lll}\n",
       " Country & n & avg\\_award\\_in\\_USD\\\\\n",
       " <chr> & <int> & <dbl>\\\\\n",
       "\\hline\n",
       "\t United Kingdom &  7 & 745227.6\\\\\n",
       "\t Argentina      &  8 & 454643.2\\\\\n",
       "\t Serbia         &  8 & 360795.9\\\\\n",
       "\t Japan          & 10 & 320105.2\\\\\n",
       "\t Australia      & 13 & 278131.9\\\\\n",
       "\t France         & 15 & 459706.8\\\\\n",
       "\t Spain          & 19 & 652559.6\\\\\n",
       "\t Italy          & 20 & 314682.0\\\\\n",
       "\t Germany        & 21 & 222830.4\\\\\n",
       "\t United States  & 24 & 307010.7\\\\\n",
       "\\end{tabular}\n"
      ],
      "text/markdown": [
       "\n",
       "A tibble: 10 × 3\n",
       "\n",
       "| Country &lt;chr&gt; | n &lt;int&gt; | avg_award_in_USD &lt;dbl&gt; |\n",
       "|---|---|---|\n",
       "| United Kingdom |  7 | 745227.6 |\n",
       "| Argentina      |  8 | 454643.2 |\n",
       "| Serbia         |  8 | 360795.9 |\n",
       "| Japan          | 10 | 320105.2 |\n",
       "| Australia      | 13 | 278131.9 |\n",
       "| France         | 15 | 459706.8 |\n",
       "| Spain          | 19 | 652559.6 |\n",
       "| Italy          | 20 | 314682.0 |\n",
       "| Germany        | 21 | 222830.4 |\n",
       "| United States  | 24 | 307010.7 |\n",
       "\n"
      ],
      "text/plain": [
       "   Country        n  avg_award_in_USD\n",
       "1  United Kingdom  7 745227.6        \n",
       "2  Argentina       8 454643.2        \n",
       "3  Serbia          8 360795.9        \n",
       "4  Japan          10 320105.2        \n",
       "5  Australia      13 278131.9        \n",
       "6  France         15 459706.8        \n",
       "7  Spain          19 652559.6        \n",
       "8  Italy          20 314682.0        \n",
       "9  Germany        21 222830.4        \n",
       "10 United States  24 307010.7        "
      ]
     },
     "metadata": {},
     "output_type": "display_data"
    },
    {
     "data": {
      "image/png": "[encoded data removed]",
      "text/plain": [
       "plot without title"
      ]
     },
     "metadata": {
      "image/png": {
       "height": 420,
       "width": 420
      }
     },
     "output_type": "display_data"
    }
   ],
   "source": [
    "# Find average prize money for each country's players\n",
    "table1 <- training_data %>%\n",
    "    group_by(Country) %>%\n",
    "    summarize(avg_award_in_USD = mean(Prize.Money)) \n",
    "\n",
    "avg_award_in_USD <- table1$avg_award_in_USD\n",
    "\n",
    "# count each country's number of players and then bind the data with the average prize money column from above\n",
    "final_table <- training_data %>%\n",
    "    group_by(Country) %>%\n",
    "    summarize(n = n()) %>%\n",
    "    bind_cols(avg_award_in_USD) %>%\n",
    "    mutate(avg_award_in_USD = ...3) %>%\n",
    "    select(-...3)\n",
    "\n",
    "# Find top 10 country with the most players\n",
    "top_10 <- final_table %>%\n",
    "        arrange(n) %>%\n",
    "        tail(10)\n",
    "\n",
    "# Plot the number of players for each top 10 country\n",
    "top_10_graph <- ggplot(top_10,aes(x = Country, y = n)) +\n",
    "        geom_bar(stat = \"identity\") +\n",
    "        labs(x = \"Country\", y = \"Number of People in Top 500 Tennis Players\") +\n",
    "        ggtitle(\"Top 10 Countries with most People in Top 500 Tennis Players\") +\n",
    "        coord_flip()\n",
    "\n",
    "top_10_graph\n",
    "\n",
    "# Final \"top 10\" table with player counts and average prize money\n",
    "tibble(top_10)\n",
    "\n",
    "top_10_names <- pull(top_10, Country)\n"
   ]
  },
  {
   "cell_type": "code",
   "execution_count": 6,
   "metadata": {},
   "outputs": [
    {
     "name": "stderr",
     "output_type": "stream",
     "text": [
      "Warning message:\n",
      "“`filter_()` is deprecated as of dplyr 0.7.0.\n",
      "Please use `filter()` instead.\n",
      "See vignette('programming') for more help\n",
      "\u001b[90mThis warning is displayed once every 8 hours.\u001b[39m\n",
      "\u001b[90mCall `lifecycle::last_warnings()` to see where this warning was generated.\u001b[39m”\n"
     ]
    },
    {
     "ename": "ERROR",
     "evalue": "Error in UseMethod(\"filter_\"): no applicable method for 'filter_' applied to an object of class \"c('rsplit', 'mc_split')\"\n",
     "output_type": "error",
     "traceback": [
      "Error in UseMethod(\"filter_\"): no applicable method for 'filter_' applied to an object of class \"c('rsplit', 'mc_split')\"\nTraceback:\n",
      "1. filter(tidy_data, Country == \"United States\" | Country == \"United Kingdom\" | \n .     Country == \"Spain\" | Country == \"Russian Federation\" | Country == \n .     \"Japan\" | Country == \"Italy\" | Country == \"Germany\" | Country == \n .     \"France\" | Country == \"Australia\" | Country == \"Argentina\")",
      "2. filter.default(tidy_data, Country == \"United States\" | Country == \n .     \"United Kingdom\" | Country == \"Spain\" | Country == \"Russian Federation\" | \n .     Country == \"Japan\" | Country == \"Italy\" | Country == \"Germany\" | \n .     Country == \"France\" | Country == \"Australia\" | Country == \n .     \"Argentina\")",
      "3. filter_(.data, .dots = compat_as_lazy_dots(...))"
     ]
    }
   ],
   "source": [
    "# Start working on Top 10\n",
    "top_10_data <- filter(tidy_data, Country == \"United States\"| Country == \"United Kingdom\" | Country == \"Spain\" | \n",
    "                     Country == \"Russian Federation\" | Country == \"Japan\" | Country == \"Italy\" |\n",
    "                     Country == \"Germany\" | Country == \"France\" | Country == \"Australia\"| Country == \"Argentina\")\n",
    "\n",
    "tennis_data <- initial_split(top_10_data, prop = 0.75, strata = Prize.Money)  \n",
    "training_data <- training(tennis_data)   \n",
    "testing_data <- testing(tennis_data)"
   ]
  },
  {
   "cell_type": "code",
   "execution_count": null,
   "metadata": {},
   "outputs": [],
   "source": [
    "# Our model\n",
    "tennis_spec <- nearest_neighbor(weight_func = \"rectangular\", neighbors = tune()) %>% \n",
    "      set_engine(\"kknn\") %>%\n",
    "      set_mode(\"regression\") \n",
    "\n",
    "# Our recipe\n",
    "tennis_recipe <- recipe(Prize.Money ~ ., data = training_data) %>%\n",
    "      step_rm(Name,Country) %>%\n",
    "      step_scale(all_predictors()) %>%\n",
    "      step_center(all_predictors()) "
   ]
  },
  {
   "cell_type": "code",
   "execution_count": null,
   "metadata": {},
   "outputs": [],
   "source": [
    "# Cross-validation\n",
    "tennis_vfold <- vfold_cv(training_data, v = 5, strata = Prize.Money)\n",
    "\n",
    "# Workflow\n",
    "tennis_workflow <- workflow() %>%\n",
    "     add_recipe(tennis_recipe) %>%\n",
    "     add_model(tennis_spec)\n",
    "\n",
    "# Find k value\n",
    "tennis_k_min <- tennis_workflow %>%\n",
    "      tune_grid(resamples = tennis_vfold, grid = 10) %>%\n",
    "      collect_metrics() %>%\n",
    "      filter(.metric == \"rmse\") %>%\n",
    "      arrange(mean) %>%\n",
    "      slice(1) %>%\n",
    "      pull(neighbors)"
   ]
  },
  {
   "cell_type": "code",
   "execution_count": null,
   "metadata": {},
   "outputs": [],
   "source": [
    "# set up a model with k = tennis_k_min\n",
    "final_spec <- nearest_neighbor(weight_func = \"rectangular\", neighbors = tennis_k_min) %>%\n",
    "        set_engine(\"kknn\") %>%\n",
    "        set_mode(\"regression\")\n",
    "\n",
    "# final fit\n",
    "final_fit <- workflow() %>%\n",
    "        add_recipe(tennis_recipe) %>%\n",
    "        add_model(final_spec) %>%\n",
    "        fit(data= training_data)\n",
    "\n",
    "# predict on the test set\n",
    "predicted_result <- final_fit %>%\n",
    "        predict(testing_data) %>%\n",
    "        bind_cols(testing_data)\n",
    "\n",
    "predicted_result\n",
    "\n",
    "# RMSPE (accuracy) of Prediction\n",
    "RMSPE <- predicted_result %>%\n",
    "        metrics(truth = Prize.Money, estimate = .pred)\n",
    "\n",
    "RMSPE"
   ]
  },
  {
   "cell_type": "code",
   "execution_count": 7,
   "metadata": {},
   "outputs": [
    {
     "ename": "ERROR",
     "evalue": "Error in fortify(data): object 'predicted_result' not found\n",
     "output_type": "error",
     "traceback": [
      "Error in fortify(data): object 'predicted_result' not found\nTraceback:\n",
      "1. geom_line(data = predicted_result, mapping = aes(x = Age, y = .pred), \n .     color = \"blue\")",
      "2. layer(data = data, mapping = mapping, stat = stat, geom = GeomLine, \n .     position = position, show.legend = show.legend, inherit.aes = inherit.aes, \n .     params = list(na.rm = na.rm, orientation = orientation, ...))",
      "3. fortify(data)"
     ]
    }
   ],
   "source": [
    "# Graph using train_data for scatter points and predicted_result for prediction line\n",
    "options(repr.plot.width = 20, repr.plot.height = 7)\n",
    "tennis_final_plot <- ggplot(training_data, aes(x = Age, y = Prize.Money, color = Country)) +\n",
    "        geom_point(size = 1.5) +\n",
    "        geom_line(data = predicted_result,\n",
    "                 mapping = aes(x = Age, y = .pred),\n",
    "                  color = \"blue\") +\n",
    "        labs(x = \"Age of Tennis Player\", y = \"Prize Earnings (in USD)\", color = \"Country\") +\n",
    "        scale_y_continuous(labels = dollar_format()) +\n",
    "        ggtitle(\"Age and Ethnicity Influencing Prize Earnings\") +\n",
    "        theme(text = element_text(size = 20))\n",
    "\n",
    "tennis_final_plot"
   ]
  },
  {
   "cell_type": "markdown",
   "metadata": {},
   "source": [
    "#### *METHODS*\n",
    "We strive to discover the significance of the country of origin and age of a tennis player when looking at their chances to win prizes. To achieve this goal, we will examine how many players there are per country and their age, and compare it with the amount of money made per country.\n",
    "\n",
    "We will use the **country column** to derive how many players there are per country, then the **age and prize money columns** to assess the correlation between the variables. In order to reduce bias, we will compare the **average ranking** of all the players in  countries when drawing conclusions.\n",
    "\n",
    "We will use **histograms** to visualize how much money different age groups make, and **bar graphs** to visualize how much money different countries make. \n",
    "\n",
    "#### *EXPECTED OUTCOMES AND SIGNIFICANCE*\n",
    "\n",
    "***What do you expect to find?*** \\\n",
    "Knowing the US's competitive nature, we expect **US players** to earn the most prize money out of all the countries given in our data set. We also expect **younger players** to make more overall given their potential.\n",
    "\n",
    "***What impact could such findings have?*** \\\n",
    "Obtaining evidence on the top earning players’ ethnicity could reveal potential **biases** or underlying **discrimination** towards a country in tennis. As more research is done towards sport-related biases (such as age and ethnicity), we hope that the insights provided by research can aspire the sports industry to make **fair** and **inclusive** sporting events for all players. In the perspective of tennis coaches, this data could be used to recruit prospective tennis players.\n",
    "\n",
    "***What future questions could this lead to?***\n",
    "Since our data analysis is only limited to tennis, it poses the question if other sports, such as soccer, football, and baseball, **have the same biases?** If not, what other predictors would have more weight than predictors used in our predicting model? "
   ]
  }
 ],
 "metadata": {
  "kernelspec": {
   "display_name": "R",
   "language": "R",
   "name": "ir"
  },
  "language_info": {
   "codemirror_mode": "r",
   "file_extension": ".r",
   "mimetype": "text/x-r-source",
   "name": "R",
   "pygments_lexer": "r",
   "version": "4.0.0"
  }
 },
 "nbformat": 4,
 "nbformat_minor": 4
}
