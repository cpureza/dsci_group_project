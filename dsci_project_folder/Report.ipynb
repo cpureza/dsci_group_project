{
 "cells": [
  {
   "cell_type": "markdown",
   "metadata": {},
   "source": [
    "# Discrimination in Tennis: An Examination of Age and Territorial Biases\n",
    "\n",
    "DSCI 100 \\\n",
    "*Team Members:*\n",
    "\n",
    "#### *INTRODUCTION*\n",
    "\n",
    "Tennis has been an integral sport within the world since 1890. Many global tournaments are held each year in major cities such as Melbourn,\n",
    "Paris, London, and New York City, with prize pools of over 50 million! Given this sport with such historical value and a global presence, \n",
    "we wanted to explore any **potential biases** through **age** or **country of origin** within the international tennis community. We achieve this by\n",
    "examining a dataset of the top 500 tennis players in the world, and visualizing money per player through age group and country of origin. \n",
    "\n",
    "***Our Question:*** Can the top ranking countries and the varying ages between tennis players be used to predict their competition winnings, and does this reveal an underlying partiality between the factors?\n",
    "\n",
    "***Classifier:*** Earnings\\\n",
    "***Predictors:*** Country, Age, Ranks(?)\\\n",
    "***Dataset:*** Tennis Player Stats for Top 500 Players\n",
    "\n",
    "#### *PRELIMINARY EXPLORATORY DATA ANALYSIS*\n"
   ]
  },
  {
   "cell_type": "code",
   "execution_count": 36,
   "metadata": {},
   "outputs": [],
   "source": [
    "library(tidyverse)\n",
    "library(repr)\n",
    "library(tidymodels)\n",
    "library(stringr)"
   ]
  },
  {
   "cell_type": "code",
   "execution_count": 37,
   "metadata": {},
   "outputs": [],
   "source": [
    "data <- read.csv(url(\"https://drive.google.com/uc?export=download&id=1_MECmUXZuuILYeEOfonSGqodW6qVdhsS\"))"
   ]
  },
  {
   "cell_type": "code",
   "execution_count": 38,
   "metadata": {},
   "outputs": [
    {
     "name": "stderr",
     "output_type": "stream",
     "text": [
      "Warning message:\n",
      "“Problem with `mutate()` input `Prize.Money`.\n",
      "\u001b[34mℹ\u001b[39m NAs introduced by coercion\n",
      "\u001b[34mℹ\u001b[39m Input `Prize.Money` is `as.numeric(Prize.Money)`.”\n",
      "Warning message in mask$eval_all_mutate(dots[[i]]):\n",
      "“NAs introduced by coercion”\n"
     ]
    }
   ],
   "source": [
    "data <- mutate(data, str_replace(data$Age, \" \\\\s*\\\\([^\\\\)]+\\\\)\", \"\"))\n",
    "data <- mutate(data, Age = str_replace(data$Age, \" \\\\s*\\\\([^\\\\)]+\\\\)\", \"\")) \n",
    "data <- mutate(data, Current.Rank = str_replace(data$Current.Rank, \" \\\\s*\\\\([^\\\\)]+\\\\)\", \"\")) \n",
    "data <- mutate(data, Best.Rank = str_replace(data$Best.Rank, \" \\\\s*\\\\([^\\\\)]+\\\\)\", \"\"))\n",
    "\n",
    "money <- c(data$Prize.Money)\n",
    "money <- money %>%\n",
    "        lapply(gsub, pattern=\"$\", fixed=TRUE, replacement=\"\") %>%\n",
    "        lapply(gsub, pattern=\"US\", fixed=TRUE, replacement=\"\") %>%\n",
    "        lapply(gsub, pattern=\"all-time leader in earnings\", fixed=TRUE, replacement=\"\") %>%\n",
    "        lapply(gsub, pattern=\"All-time leader in earnings\", fixed=TRUE, replacement=\"\") %>%\n",
    "        lapply(gsub, pattern=\"all-time in earnings\", fixed=TRUE, replacement=\"\") %>%\n",
    "        lapply(gsub, pattern=\"11th\", fixed=TRUE, replacement=\"\") %>%\n",
    "        lapply(gsub, pattern=\"24th\", fixed=TRUE, replacement=\"\") %>%\n",
    "        lapply(gsub, pattern=\"10th\", fixed=TRUE, replacement=\"\") %>%\n",
    "        lapply(gsub, pattern=\"14th\", fixed=TRUE, replacement=\"\") %>%\n",
    "        lapply(gsub, pattern=\"2nd\", fixed=TRUE, replacement=\"\") %>%\n",
    "        lapply(gsub, pattern=\"27th\", fixed=TRUE, replacement=\"\") %>%\n",
    "        lapply(gsub, pattern=\"15th\", fixed=TRUE, replacement=\"\") %>%\n",
    "        lapply(gsub, pattern=\"30th\", fixed=TRUE, replacement=\"\") %>%\n",
    "        lapply(gsub, pattern=\"4th\", fixed=TRUE, replacement=\"\") %>%\n",
    "        lapply(gsub, pattern=\"28th\", fixed=TRUE, replacement=\"\") %>%\n",
    "        lapply(gsub, pattern=\"6th\", fixed=TRUE, replacement=\"\") %>%\n",
    "        lapply(gsub, pattern=\"33rd\", fixed=TRUE, replacement=\"\") %>%\n",
    "        lapply(gsub, pattern=\"26th\", fixed=TRUE, replacement=\"\") %>%\n",
    "        lapply(gsub, pattern=\"24th\", fixed=TRUE, replacement=\"\") %>%\n",
    "        lapply(gsub, pattern=\"48th\", fixed=TRUE, replacement=\"\") %>%\n",
    "        lapply(gsub, pattern=\"41st\", fixed=TRUE, replacement=\"\") %>%\n",
    "        lapply(gsub, pattern=\"24th\", fixed=TRUE, replacement=\"\") %>%\n",
    "        lapply(gsub, pattern=\"15th\", fixed=TRUE, replacement=\"\")\n",
    "\n",
    "data_selected <- data %>%\n",
    "            mutate(data, Prize.Money = money) %>%\n",
    "            select(Age, Name,Country, Current.Rank, Best.Rank, Prize.Money) %>%\n",
    "            mutate(Prize.Money = gsub(\",\",\"\",data_selected$Prize.Money))\n",
    "\n",
    "tidy_data <- data_selected %>% \n",
    "        filter(Prize.Money != \"\") %>%\n",
    "        mutate(Prize.Money = as.numeric(Prize.Money)) %>%\n",
    "        mutate(Age = as.numeric(Age)) %>%\n",
    "        mutate(Current.Rank = as.numeric(Current.Rank)) %>%\n",
    "        mutate(Best.Rank = as.numeric(Best.Rank))\n",
    "\n",
    "tidy_data <- drop_na(tidy_data)"
   ]
  },
  {
   "cell_type": "code",
   "execution_count": 39,
   "metadata": {},
   "outputs": [
    {
     "name": "stderr",
     "output_type": "stream",
     "text": [
      "Warning message:\n",
      "“Too little data to stratify. Unstratified resampling will be used.”\n"
     ]
    }
   ],
   "source": [
    "tidy_data <- initial_split(tidy_data, prop = 0.75, strata = Country)  \n",
    "training_data <- training(tidy_data)   \n",
    "testing_data <- testing(tidy_data)"
   ]
  },
  {
   "cell_type": "code",
   "execution_count": 40,
   "metadata": {},
   "outputs": [
    {
     "name": "stderr",
     "output_type": "stream",
     "text": [
      "`summarise()` ungrouping output (override with `.groups` argument)\n",
      "\n",
      "`summarise()` ungrouping output (override with `.groups` argument)\n",
      "\n",
      "New names:\n",
      "* NA -> ...3\n",
      "\n"
     ]
    },
    {
     "data": {
      "text/html": [
       "<table>\n",
       "<caption>A tibble: 10 × 3</caption>\n",
       "<thead>\n",
       "\t<tr><th scope=col>Country</th><th scope=col>n</th><th scope=col>avg_award_in_USD</th></tr>\n",
       "\t<tr><th scope=col>&lt;chr&gt;</th><th scope=col>&lt;int&gt;</th><th scope=col>&lt;dbl&gt;</th></tr>\n",
       "</thead>\n",
       "<tbody>\n",
       "\t<tr><td>Brazil            </td><td> 8</td><td> 1168091</td></tr>\n",
       "\t<tr><td>Serbia            </td><td>12</td><td>14062218</td></tr>\n",
       "\t<tr><td>Germany           </td><td>14</td><td> 2204914</td></tr>\n",
       "\t<tr><td>Russian Federation</td><td>14</td><td> 2231558</td></tr>\n",
       "\t<tr><td>Argentina         </td><td>16</td><td> 1755240</td></tr>\n",
       "\t<tr><td>Australia         </td><td>17</td><td> 1748527</td></tr>\n",
       "\t<tr><td>Spain             </td><td>24</td><td> 9019044</td></tr>\n",
       "\t<tr><td>Italy             </td><td>25</td><td> 1680283</td></tr>\n",
       "\t<tr><td>France            </td><td>28</td><td> 3004718</td></tr>\n",
       "\t<tr><td>United States     </td><td>30</td><td> 2168168</td></tr>\n",
       "</tbody>\n",
       "</table>\n"
      ],
      "text/latex": [
       "A tibble: 10 × 3\n",
       "\\begin{tabular}{lll}\n",
       " Country & n & avg\\_award\\_in\\_USD\\\\\n",
       " <chr> & <int> & <dbl>\\\\\n",
       "\\hline\n",
       "\t Brazil             &  8 &  1168091\\\\\n",
       "\t Serbia             & 12 & 14062218\\\\\n",
       "\t Germany            & 14 &  2204914\\\\\n",
       "\t Russian Federation & 14 &  2231558\\\\\n",
       "\t Argentina          & 16 &  1755240\\\\\n",
       "\t Australia          & 17 &  1748527\\\\\n",
       "\t Spain              & 24 &  9019044\\\\\n",
       "\t Italy              & 25 &  1680283\\\\\n",
       "\t France             & 28 &  3004718\\\\\n",
       "\t United States      & 30 &  2168168\\\\\n",
       "\\end{tabular}\n"
      ],
      "text/markdown": [
       "\n",
       "A tibble: 10 × 3\n",
       "\n",
       "| Country &lt;chr&gt; | n &lt;int&gt; | avg_award_in_USD &lt;dbl&gt; |\n",
       "|---|---|---|\n",
       "| Brazil             |  8 |  1168091 |\n",
       "| Serbia             | 12 | 14062218 |\n",
       "| Germany            | 14 |  2204914 |\n",
       "| Russian Federation | 14 |  2231558 |\n",
       "| Argentina          | 16 |  1755240 |\n",
       "| Australia          | 17 |  1748527 |\n",
       "| Spain              | 24 |  9019044 |\n",
       "| Italy              | 25 |  1680283 |\n",
       "| France             | 28 |  3004718 |\n",
       "| United States      | 30 |  2168168 |\n",
       "\n"
      ],
      "text/plain": [
       "   Country            n  avg_award_in_USD\n",
       "1  Brazil              8  1168091        \n",
       "2  Serbia             12 14062218        \n",
       "3  Germany            14  2204914        \n",
       "4  Russian Federation 14  2231558        \n",
       "5  Argentina          16  1755240        \n",
       "6  Australia          17  1748527        \n",
       "7  Spain              24  9019044        \n",
       "8  Italy              25  1680283        \n",
       "9  France             28  3004718        \n",
       "10 United States      30  2168168        "
      ]
     },
     "metadata": {},
     "output_type": "display_data"
    },
    {
     "data": {
      "image/png": "[encoded data removed]",
      "text/plain": [
       "plot without title"
      ]
     },
     "metadata": {
      "image/png": {
       "height": 420,
       "width": 420
      }
     },
     "output_type": "display_data"
    }
   ],
   "source": [
    "# Find average prize money for each country's players\n",
    "table1 <- training_data %>%\n",
    "    group_by(Country) %>%\n",
    "    summarize(avg_award_in_USD = mean(Prize.Money)) \n",
    "\n",
    "avg_award_in_USD <- table1$avg_award_in_USD\n",
    "\n",
    "# count each country's number of players and then bind the data with the average prize money column from above\n",
    "final_table <- training_data %>%\n",
    "    group_by(Country) %>%\n",
    "    summarize(n = n()) %>%\n",
    "    bind_cols(avg_award_in_USD) %>%\n",
    "    mutate(avg_award_in_USD = ...3) %>%\n",
    "    select(-...3)\n",
    "\n",
    "# Find top 10 country with the most players\n",
    "top_10 <- final_table %>%\n",
    "        arrange(n) %>%\n",
    "        tail(10)\n",
    "\n",
    "# Plot the number of players for each top 10 country\n",
    "top_10_graph <- ggplot(top_10,aes(x = Country, y = n)) +\n",
    "        geom_bar(stat = \"identity\") +\n",
    "        labs(x = \"Country\", y = \"Number of People in Top 500 Tennis Players\") +\n",
    "        ggtitle(\"Top 10 Countries with most People in Top 500 Tennis Players\") +\n",
    "        coord_flip()\n",
    "\n",
    "top_10_graph\n",
    "\n",
    "# Final \"top 10\" table with player counts and average prize money\n",
    "tibble(top_10)\n",
    "\n"
   ]
  },
  {
   "cell_type": "markdown",
   "metadata": {},
   "source": [
    "#### *METHODS*\n",
    "We strive to discover the significance of the country of origin and age of a tennis player when looking at their chances to win prizes. To achieve this goal, we will examine how many players there are per country and their age, and compare it with the amount of money made per country.\n",
    "\n",
    "We will use the **country column** to derive how many players there are per country, then the **age and prize money columns** to assess the correlation between the variables. In order to reduce bias, we will compare the **average ranking** of all the players in  countries when drawing conclusions.\n",
    "\n",
    "We will use **histograms** to visualize how much money different age groups make, and **bar graphs** to visualize how much money different countries make. \n",
    "\n",
    "#### *EXPECTED OUTCOMES AND SIGNIFICANCE*\n",
    "\n",
    "***What do you expect to find?*** \\\n",
    "Knowing the US's competitive nature, we expect **US players** to earn the most prize money out of all the countries given in our data set. We also expect **younger players** to make more overall given their potential.\n",
    "\n",
    "***What impact could such findings have?*** \\\n",
    "Obtaining evidence on the top earning players’ ethnicity could reveal potential **biases** or underlying **discrimination** towards a country in tennis. As more research is done towards sport-related biases (such as age and ethnicity), we hope that the insights provided by research can aspire the sports industry to make **fair** and **inclusive** sporting events for all players. In the perspective of tennis coaches, this data could be used to recruit prospective tennis players.\n",
    "\n",
    "***What future questions could this lead to?***\n",
    "Since our data analysis is only limited to tennis, it poses the question if other sports, such as soccer, football, and baseball, **have the same biases?** If not, what other predictors would have more weight than predictors used in our predicting model? "
   ]
  }
 ],
 "metadata": {
  "kernelspec": {
   "display_name": "R",
   "language": "R",
   "name": "ir"
  },
  "language_info": {
   "codemirror_mode": "r",
   "file_extension": ".r",
   "mimetype": "text/x-r-source",
   "name": "R",
   "pygments_lexer": "r",
   "version": "4.0.0"
  }
 },
 "nbformat": 4,
 "nbformat_minor": 4
}
